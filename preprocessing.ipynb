{
 "cells": [
  {
   "cell_type": "markdown",
   "metadata": {},
   "source": [
    "### 범주형 변수 이진 인코딩 과정 진행"
   ]
  },
  {
   "cell_type": "code",
   "execution_count": 1,
   "metadata": {},
   "outputs": [],
   "source": [
    "import pandas as pd\n",
    "import numpy as np"
   ]
  },
  {
   "cell_type": "code",
   "execution_count": 2,
   "metadata": {},
   "outputs": [],
   "source": [
    "# 주거 형태 이진 인코딩\n",
    "train = pd.read_csv('train.csv',index_col = 0)"
   ]
  },
  {
   "cell_type": "code",
   "execution_count": 4,
   "metadata": {},
   "outputs": [],
   "source": [
    "#사용할 컬럼만 남기기\n",
    "train = train[['주거 형태','연간 소득','개설된 신용계좌 수','대출 목적','대출 상환 기간',\n",
    "               '최대 신용한도','월 상환 부채액','신용 점수','채무 불이행 여부']]"
   ]
  },
  {
   "cell_type": "code",
   "execution_count": 5,
   "metadata": {},
   "outputs": [],
   "source": [
    "def encoding(x):\n",
    "    if x == '자가' or x == '월세':\n",
    "        return 1\n",
    "    else:\n",
    "        return 0"
   ]
  },
  {
   "cell_type": "code",
   "execution_count": 6,
   "metadata": {},
   "outputs": [
    {
     "data": {
      "text/plain": [
       "UID\n",
       "TRAIN_00000    1\n",
       "TRAIN_00001    1\n",
       "TRAIN_00002    1\n",
       "TRAIN_00003    1\n",
       "TRAIN_00004    1\n",
       "              ..\n",
       "TRAIN_09995    0\n",
       "TRAIN_09996    0\n",
       "TRAIN_09997    0\n",
       "TRAIN_09998    1\n",
       "TRAIN_09999    0\n",
       "Name: 주거 형태, Length: 10000, dtype: int64"
      ]
     },
     "execution_count": 6,
     "metadata": {},
     "output_type": "execute_result"
    }
   ],
   "source": [
    "# 주거 형태 레이블 인코딩(자가/월세 : 1, 주담대 : 0)\n",
    "train['주거 형태'] = train['주거 형태'].map(lambda x: encoding(x))\n",
    "train['주거 형태']"
   ]
  },
  {
   "cell_type": "code",
   "execution_count": 7,
   "metadata": {},
   "outputs": [
    {
     "data": {
      "text/plain": [
       "UID\n",
       "TRAIN_00000    0\n",
       "TRAIN_00001    0\n",
       "TRAIN_00002    0\n",
       "TRAIN_00003    0\n",
       "TRAIN_00004    0\n",
       "              ..\n",
       "TRAIN_09995    0\n",
       "TRAIN_09996    0\n",
       "TRAIN_09997    0\n",
       "TRAIN_09998    0\n",
       "TRAIN_09999    0\n",
       "Name: 개설된 신용계좌 수, Length: 10000, dtype: int64"
      ]
     },
     "execution_count": 7,
     "metadata": {},
     "output_type": "execute_result"
    }
   ],
   "source": [
    "# 개설 신용계좌 수에 따른 인코딩(계좌 수가 18개 이상이면 1, 이하면 0)\n",
    "train['개설된 신용계좌 수'] = train['개설된 신용계좌 수'].map(lambda x : 1 if x>=18 else 0)\n",
    "train['개설된 신용계좌 수']"
   ]
  },
  {
   "cell_type": "code",
   "execution_count": 8,
   "metadata": {},
   "outputs": [
    {
     "data": {
      "text/plain": [
       "UID\n",
       "TRAIN_00000    0\n",
       "TRAIN_00001    0\n",
       "TRAIN_00002    0\n",
       "TRAIN_00003    0\n",
       "TRAIN_00004    1\n",
       "              ..\n",
       "TRAIN_09995    0\n",
       "TRAIN_09996    1\n",
       "TRAIN_09997    1\n",
       "TRAIN_09998    0\n",
       "TRAIN_09999    1\n",
       "Name: 대출 상환 기간, Length: 10000, dtype: int64"
      ]
     },
     "execution_count": 8,
     "metadata": {},
     "output_type": "execute_result"
    }
   ],
   "source": [
    "#상환 기간 인코딩\n",
    "train['대출 상환 기간'] = train['대출 상환 기간'].map(lambda x: 1 if x=='장기 상환' else 0)\n",
    "train['대출 상환 기간']"
   ]
  },
  {
   "cell_type": "code",
   "execution_count": 9,
   "metadata": {},
   "outputs": [
    {
     "data": {
      "text/plain": [
       "UID\n",
       "TRAIN_00000    1\n",
       "TRAIN_00001    1\n",
       "TRAIN_00002    1\n",
       "TRAIN_00003    1\n",
       "TRAIN_00004    1\n",
       "              ..\n",
       "TRAIN_09995    1\n",
       "TRAIN_09996    0\n",
       "TRAIN_09997    1\n",
       "TRAIN_09998    1\n",
       "TRAIN_09999    0\n",
       "Name: 대출 목적, Length: 10000, dtype: int64"
      ]
     },
     "execution_count": 9,
     "metadata": {},
     "output_type": "execute_result"
    }
   ],
   "source": [
    "#대출 목적 인코딩\n",
    "train['대출 목적'].unique()\n",
    "bu_list = ['부채 통합','사업 대출','소규모 사업 자금']\n",
    "train['대출 목적'] = train['대출 목적'].map(lambda x: 1 if x in bu_list else 0)\n",
    "train['대출 목적']"
   ]
  },
  {
   "cell_type": "code",
   "execution_count": 10,
   "metadata": {},
   "outputs": [
    {
     "data": {
      "text/html": [
       "<div>\n",
       "<style scoped>\n",
       "    .dataframe tbody tr th:only-of-type {\n",
       "        vertical-align: middle;\n",
       "    }\n",
       "\n",
       "    .dataframe tbody tr th {\n",
       "        vertical-align: top;\n",
       "    }\n",
       "\n",
       "    .dataframe thead th {\n",
       "        text-align: right;\n",
       "    }\n",
       "</style>\n",
       "<table border=\"1\" class=\"dataframe\">\n",
       "  <thead>\n",
       "    <tr style=\"text-align: right;\">\n",
       "      <th></th>\n",
       "      <th>주거 형태</th>\n",
       "      <th>연간 소득</th>\n",
       "      <th>개설된 신용계좌 수</th>\n",
       "      <th>대출 목적</th>\n",
       "      <th>대출 상환 기간</th>\n",
       "      <th>최대 신용한도</th>\n",
       "      <th>월 상환 부채액</th>\n",
       "      <th>신용 점수</th>\n",
       "      <th>채무 불이행 여부</th>\n",
       "    </tr>\n",
       "    <tr>\n",
       "      <th>UID</th>\n",
       "      <th></th>\n",
       "      <th></th>\n",
       "      <th></th>\n",
       "      <th></th>\n",
       "      <th></th>\n",
       "      <th></th>\n",
       "      <th></th>\n",
       "      <th></th>\n",
       "      <th></th>\n",
       "    </tr>\n",
       "  </thead>\n",
       "  <tbody>\n",
       "    <tr>\n",
       "      <th>TRAIN_00000</th>\n",
       "      <td>1</td>\n",
       "      <td>1941337.5</td>\n",
       "      <td>0</td>\n",
       "      <td>1</td>\n",
       "      <td>0</td>\n",
       "      <td>400597.5</td>\n",
       "      <td>8806.5</td>\n",
       "      <td>767</td>\n",
       "      <td>0</td>\n",
       "    </tr>\n",
       "    <tr>\n",
       "      <th>TRAIN_00001</th>\n",
       "      <td>1</td>\n",
       "      <td>1979505.0</td>\n",
       "      <td>0</td>\n",
       "      <td>1</td>\n",
       "      <td>0</td>\n",
       "      <td>360679.5</td>\n",
       "      <td>24961.5</td>\n",
       "      <td>767</td>\n",
       "      <td>0</td>\n",
       "    </tr>\n",
       "    <tr>\n",
       "      <th>TRAIN_00002</th>\n",
       "      <td>1</td>\n",
       "      <td>1356381.0</td>\n",
       "      <td>0</td>\n",
       "      <td>1</td>\n",
       "      <td>0</td>\n",
       "      <td>491770.5</td>\n",
       "      <td>12069.0</td>\n",
       "      <td>800</td>\n",
       "      <td>1</td>\n",
       "    </tr>\n",
       "    <tr>\n",
       "      <th>TRAIN_00003</th>\n",
       "      <td>1</td>\n",
       "      <td>1049017.5</td>\n",
       "      <td>0</td>\n",
       "      <td>1</td>\n",
       "      <td>0</td>\n",
       "      <td>411546.0</td>\n",
       "      <td>31749.0</td>\n",
       "      <td>796</td>\n",
       "      <td>1</td>\n",
       "    </tr>\n",
       "    <tr>\n",
       "      <th>TRAIN_00004</th>\n",
       "      <td>1</td>\n",
       "      <td>4320217.5</td>\n",
       "      <td>0</td>\n",
       "      <td>1</td>\n",
       "      <td>1</td>\n",
       "      <td>895288.5</td>\n",
       "      <td>5862.0</td>\n",
       "      <td>751</td>\n",
       "      <td>0</td>\n",
       "    </tr>\n",
       "  </tbody>\n",
       "</table>\n",
       "</div>"
      ],
      "text/plain": [
       "             주거 형태      연간 소득  개설된 신용계좌 수  대출 목적  대출 상환 기간   최대 신용한도  \\\n",
       "UID                                                                    \n",
       "TRAIN_00000      1  1941337.5           0      1         0  400597.5   \n",
       "TRAIN_00001      1  1979505.0           0      1         0  360679.5   \n",
       "TRAIN_00002      1  1356381.0           0      1         0  491770.5   \n",
       "TRAIN_00003      1  1049017.5           0      1         0  411546.0   \n",
       "TRAIN_00004      1  4320217.5           0      1         1  895288.5   \n",
       "\n",
       "             월 상환 부채액  신용 점수  채무 불이행 여부  \n",
       "UID                                      \n",
       "TRAIN_00000    8806.5    767          0  \n",
       "TRAIN_00001   24961.5    767          0  \n",
       "TRAIN_00002   12069.0    800          1  \n",
       "TRAIN_00003   31749.0    796          1  \n",
       "TRAIN_00004    5862.0    751          0  "
      ]
     },
     "execution_count": 10,
     "metadata": {},
     "output_type": "execute_result"
    }
   ],
   "source": [
    "train.head()"
   ]
  },
  {
   "cell_type": "code",
   "execution_count": 11,
   "metadata": {},
   "outputs": [],
   "source": [
    "# 데이터 분할\n",
    "train_x = train.iloc[:,:-1]\n",
    "train_y = train.iloc[:,-1]"
   ]
  },
  {
   "cell_type": "code",
   "execution_count": 14,
   "metadata": {},
   "outputs": [
    {
     "data": {
      "text/plain": [
       "Index(['UID', '주거 형태', '연간 소득', '현재 직장 근속 연수', '체납 세금 압류 횟수', '개설된 신용계좌 수',\n",
       "       '신용 거래 연수', '최대 신용한도', '신용 문제 발생 횟수', '마지막 연체 이후 경과 개월 수', '개인 파산 횟수',\n",
       "       '대출 목적', '대출 상환 기간', '현재 대출 잔액', '현재 미상환 신용액', '월 상환 부채액', '신용 점수'],\n",
       "      dtype='object')"
      ]
     },
     "execution_count": 14,
     "metadata": {},
     "output_type": "execute_result"
    }
   ],
   "source": [
    "test.columns"
   ]
  },
  {
   "cell_type": "code",
   "execution_count": 16,
   "metadata": {},
   "outputs": [
    {
     "data": {
      "text/html": [
       "<div>\n",
       "<style scoped>\n",
       "    .dataframe tbody tr th:only-of-type {\n",
       "        vertical-align: middle;\n",
       "    }\n",
       "\n",
       "    .dataframe tbody tr th {\n",
       "        vertical-align: top;\n",
       "    }\n",
       "\n",
       "    .dataframe thead th {\n",
       "        text-align: right;\n",
       "    }\n",
       "</style>\n",
       "<table border=\"1\" class=\"dataframe\">\n",
       "  <thead>\n",
       "    <tr style=\"text-align: right;\">\n",
       "      <th></th>\n",
       "      <th>주거 형태</th>\n",
       "      <th>연간 소득</th>\n",
       "      <th>개설된 신용계좌 수</th>\n",
       "      <th>대출 목적</th>\n",
       "      <th>대출 상환 기간</th>\n",
       "      <th>최대 신용한도</th>\n",
       "      <th>월 상환 부채액</th>\n",
       "      <th>신용 점수</th>\n",
       "    </tr>\n",
       "  </thead>\n",
       "  <tbody>\n",
       "    <tr>\n",
       "      <th>0</th>\n",
       "      <td>1</td>\n",
       "      <td>1560090.0</td>\n",
       "      <td>0</td>\n",
       "      <td>0</td>\n",
       "      <td>0</td>\n",
       "      <td>495561.0</td>\n",
       "      <td>29641.5</td>\n",
       "      <td>736</td>\n",
       "    </tr>\n",
       "    <tr>\n",
       "      <th>1</th>\n",
       "      <td>0</td>\n",
       "      <td>2102616.0</td>\n",
       "      <td>0</td>\n",
       "      <td>1</td>\n",
       "      <td>1</td>\n",
       "      <td>580833.0</td>\n",
       "      <td>20151.0</td>\n",
       "      <td>718</td>\n",
       "    </tr>\n",
       "    <tr>\n",
       "      <th>2</th>\n",
       "      <td>0</td>\n",
       "      <td>2477989.5</td>\n",
       "      <td>0</td>\n",
       "      <td>1</td>\n",
       "      <td>1</td>\n",
       "      <td>995841.0</td>\n",
       "      <td>13113.0</td>\n",
       "      <td>722</td>\n",
       "    </tr>\n",
       "    <tr>\n",
       "      <th>3</th>\n",
       "      <td>0</td>\n",
       "      <td>1571091.0</td>\n",
       "      <td>0</td>\n",
       "      <td>1</td>\n",
       "      <td>0</td>\n",
       "      <td>601656.0</td>\n",
       "      <td>11679.0</td>\n",
       "      <td>762</td>\n",
       "    </tr>\n",
       "    <tr>\n",
       "      <th>4</th>\n",
       "      <td>0</td>\n",
       "      <td>2290260.0</td>\n",
       "      <td>1</td>\n",
       "      <td>1</td>\n",
       "      <td>0</td>\n",
       "      <td>1954623.0</td>\n",
       "      <td>42370.5</td>\n",
       "      <td>775</td>\n",
       "    </tr>\n",
       "  </tbody>\n",
       "</table>\n",
       "</div>"
      ],
      "text/plain": [
       "   주거 형태      연간 소득  개설된 신용계좌 수  대출 목적  대출 상환 기간    최대 신용한도  월 상환 부채액  신용 점수\n",
       "0      1  1560090.0           0      0         0   495561.0   29641.5    736\n",
       "1      0  2102616.0           0      1         1   580833.0   20151.0    718\n",
       "2      0  2477989.5           0      1         1   995841.0   13113.0    722\n",
       "3      0  1571091.0           0      1         0   601656.0   11679.0    762\n",
       "4      0  2290260.0           1      1         0  1954623.0   42370.5    775"
      ]
     },
     "execution_count": 16,
     "metadata": {},
     "output_type": "execute_result"
    }
   ],
   "source": [
    "test = pd.read_csv('test.csv')\n",
    "test = test[['주거 형태','연간 소득','개설된 신용계좌 수','대출 목적','대출 상환 기간',\n",
    "               '최대 신용한도','월 상환 부채액','신용 점수']]\n",
    "test['주거 형태'] = test['주거 형태'].map(lambda x: encoding(x))\n",
    "test['개설된 신용계좌 수'] = test['개설된 신용계좌 수'].map(lambda x : 1 if x>=18 else 0)\n",
    "test['대출 상환 기간'] = test['대출 상환 기간'].map(lambda x: 1 if x=='장기 상환' else 0)\n",
    "test['대출 목적'] = test['대출 목적'].map(lambda x: 1 if x in bu_list else 0)\n",
    "test.head()"
   ]
  },
  {
   "cell_type": "code",
   "execution_count": 17,
   "metadata": {},
   "outputs": [],
   "source": [
    "#인코딩 처리한 csv 파일 저장\n",
    "train.to_csv('train_encoding.csv',index=False)\n",
    "test.to_csv('test_encoding.csv',index=False)"
   ]
  },
  {
   "cell_type": "code",
   "execution_count": null,
   "metadata": {},
   "outputs": [],
   "source": [
    "#로지스틱 회귀 진행\n",
    "from sklearn.linear_model import LogisticRegression\n",
    "model = LogisticRegression()\n",
    "model_fit = model.fit(train_x,train_y)\n",
    "pred = model_fit.predict_proba(test)\n",
    "preds = pred[:,-1]"
   ]
  },
  {
   "cell_type": "code",
   "execution_count": 26,
   "metadata": {},
   "outputs": [],
   "source": [
    "submit = pd.read_csv('sample_submission.csv')\n",
    "\n",
    "# 결과 저장\n",
    "submit['채무 불이행 확률'] = preds\n",
    "submit.to_csv('submission.csv', encoding='UTF-8-sig', index=False)"
   ]
  }
 ],
 "metadata": {
  "kernelspec": {
   "display_name": "Python 3",
   "language": "python",
   "name": "python3"
  },
  "language_info": {
   "codemirror_mode": {
    "name": "ipython",
    "version": 3
   },
   "file_extension": ".py",
   "mimetype": "text/x-python",
   "name": "python",
   "nbconvert_exporter": "python",
   "pygments_lexer": "ipython3",
   "version": "3.13.2"
  }
 },
 "nbformat": 4,
 "nbformat_minor": 2
}
