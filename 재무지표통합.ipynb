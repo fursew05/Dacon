{
  "cells": [
    {
      "cell_type": "markdown",
      "metadata": {
        "id": "view-in-github",
        "colab_type": "text"
      },
      "source": [
        "<a href=\"https://colab.research.google.com/github/fursew05/Dacon/blob/main/%EC%9E%AC%EB%AC%B4%EC%A7%80%ED%91%9C%ED%86%B5%ED%95%A9.ipynb\" target=\"_parent\"><img src=\"https://colab.research.google.com/assets/colab-badge.svg\" alt=\"Open In Colab\"/></a>"
      ]
    },
    {
      "cell_type": "code",
      "execution_count": null,
      "id": "f26db1e5",
      "metadata": {
        "id": "f26db1e5"
      },
      "outputs": [],
      "source": [
        "import pandas as pd\n",
        "import numpy as np\n",
        "import warnings\n",
        "warnings.filterwarnings('ignore')"
      ]
    },
    {
      "cell_type": "markdown",
      "id": "e2ef50ce",
      "metadata": {
        "id": "e2ef50ce"
      },
      "source": [
        "### 재무 데이터 + 비재무 데이터 + 거시경제 데이터 만들기"
      ]
    },
    {
      "cell_type": "code",
      "execution_count": null,
      "id": "e2f407d9",
      "metadata": {
        "id": "e2f407d9"
      },
      "outputs": [],
      "source": [
        "# 회계년도 컬럼 정수형으로 변경 및 추가여부 컬럼삭제\n",
        "df = pd.read_csv(\"data\\파생위한재무종합.csv\",index_col=0)\n",
        "df['회계년도'] = df['회계년도'].str.split('/').str[0]\n",
        "df['회계년도'] = df['회계년도'].astype('int64')\n",
        "df.drop(columns=['연결_추가여부', '개별_추가여부', 'kos_gaap_추가여부','비상장_연결_추가여부', '비상장_개별_추가여부', '비상장_gaap_추가여부'],inplace=True)"
      ]
    },
    {
      "cell_type": "code",
      "execution_count": null,
      "id": "1aee57c5",
      "metadata": {
        "id": "1aee57c5"
      },
      "outputs": [],
      "source": [
        "# 데이터 조인하기\n",
        "df1 = pd.read_csv('data\\이자비용처리 전 데이터.csv',index_col=0)\n",
        "join_data = df1.merge(df,how='left',on=['회사명','거래소코드','회계년도'])"
      ]
    },
    {
      "cell_type": "code",
      "execution_count": null,
      "id": "90e91a03",
      "metadata": {
        "id": "90e91a03"
      },
      "outputs": [],
      "source": [
        "# 이자보상배율이 999인 행 삭제\n",
        "join_data = join_data[join_data['이자보상배율(이자비용)'] != 999999999]"
      ]
    },
    {
      "cell_type": "code",
      "execution_count": null,
      "id": "87067d80",
      "metadata": {
        "id": "87067d80"
      },
      "outputs": [],
      "source": [
        "# 각 행마다 어떤 회계기준 재무데이터를 가져왔는지에 대한 컬럼 추가\n",
        "join_data['GAAP'] = join_data['kos_gaap_추가여부'] + join_data['out_gaap_1_추가여부'] + join_data['out_gaap_2_추가여부'] + \\\n",
        "join_data['out_gaap_3_추가여부'] + join_data['out_gaap_4_추가여부']\n",
        "join_data.rename(columns={'연결_추가여부' : 'IFRS_CONN','개별_추가여부' : 'IFRS'},inplace=True)"
      ]
    },
    {
      "cell_type": "code",
      "execution_count": null,
      "id": "7ebcbbc7",
      "metadata": {
        "id": "7ebcbbc7"
      },
      "outputs": [],
      "source": [
        "# 업력이 음수인 데이터 제거\n",
        "flag = join_data['업력'] >= 0\n",
        "join_data = join_data.loc[flag]\n",
        "\n",
        "# 추가여부 컬럼 삭제\n",
        "drop_cols = ['kos_gaap_추가여부',\n",
        " 'out_gaap_1_추가여부',\n",
        " 'out_gaap_2_추가여부',\n",
        " 'out_gaap_3_추가여부',\n",
        " 'out_gaap_4_추가여부']\n",
        "join_data.drop(columns=drop_cols,inplace=True)\n",
        "\n",
        "# 회계년도가 2012년 이후인 데이터만 추출\n",
        "eda_data = join_data[join_data['회계년도']>2011]"
      ]
    },
    {
      "cell_type": "code",
      "execution_count": null,
      "id": "1b17ec30",
      "metadata": {
        "id": "1b17ec30",
        "outputId": "9a9cfc81-8c99-4669-9048-9420893eade1"
      },
      "outputs": [
        {
          "name": "stderr",
          "output_type": "stream",
          "text": [
            "C:\\Users\\fursew\\AppData\\Local\\Temp\\ipykernel_20104\\659736143.py:9: SettingWithCopyWarning: \n",
            "A value is trying to be set on a copy of a slice from a DataFrame.\n",
            "Try using .loc[row_indexer,col_indexer] = value instead\n",
            "\n",
            "See the caveats in the documentation: https://pandas.pydata.org/pandas-docs/stable/user_guide/indexing.html#returning-a-view-versus-a-copy\n",
            "  eda_data[col] = eda_data[col].astype('object')\n",
            "C:\\Users\\fursew\\AppData\\Local\\Temp\\ipykernel_20104\\659736143.py:9: SettingWithCopyWarning: \n",
            "A value is trying to be set on a copy of a slice from a DataFrame.\n",
            "Try using .loc[row_indexer,col_indexer] = value instead\n",
            "\n",
            "See the caveats in the documentation: https://pandas.pydata.org/pandas-docs/stable/user_guide/indexing.html#returning-a-view-versus-a-copy\n",
            "  eda_data[col] = eda_data[col].astype('object')\n",
            "C:\\Users\\fursew\\AppData\\Local\\Temp\\ipykernel_20104\\659736143.py:9: SettingWithCopyWarning: \n",
            "A value is trying to be set on a copy of a slice from a DataFrame.\n",
            "Try using .loc[row_indexer,col_indexer] = value instead\n",
            "\n",
            "See the caveats in the documentation: https://pandas.pydata.org/pandas-docs/stable/user_guide/indexing.html#returning-a-view-versus-a-copy\n",
            "  eda_data[col] = eda_data[col].astype('object')\n",
            "C:\\Users\\fursew\\AppData\\Local\\Temp\\ipykernel_20104\\659736143.py:9: SettingWithCopyWarning: \n",
            "A value is trying to be set on a copy of a slice from a DataFrame.\n",
            "Try using .loc[row_indexer,col_indexer] = value instead\n",
            "\n",
            "See the caveats in the documentation: https://pandas.pydata.org/pandas-docs/stable/user_guide/indexing.html#returning-a-view-versus-a-copy\n",
            "  eda_data[col] = eda_data[col].astype('object')\n",
            "C:\\Users\\fursew\\AppData\\Local\\Temp\\ipykernel_20104\\659736143.py:9: SettingWithCopyWarning: \n",
            "A value is trying to be set on a copy of a slice from a DataFrame.\n",
            "Try using .loc[row_indexer,col_indexer] = value instead\n",
            "\n",
            "See the caveats in the documentation: https://pandas.pydata.org/pandas-docs/stable/user_guide/indexing.html#returning-a-view-versus-a-copy\n",
            "  eda_data[col] = eda_data[col].astype('object')\n",
            "C:\\Users\\fursew\\AppData\\Local\\Temp\\ipykernel_20104\\659736143.py:9: SettingWithCopyWarning: \n",
            "A value is trying to be set on a copy of a slice from a DataFrame.\n",
            "Try using .loc[row_indexer,col_indexer] = value instead\n",
            "\n",
            "See the caveats in the documentation: https://pandas.pydata.org/pandas-docs/stable/user_guide/indexing.html#returning-a-view-versus-a-copy\n",
            "  eda_data[col] = eda_data[col].astype('object')\n"
          ]
        }
      ],
      "source": [
        "# object 타입으로 변경\n",
        "object_cols = [\n",
        "'IFRS_CONN',\n",
        " 'IFRS',\n",
        "'대표이사변경여부',\n",
        " '수도권','부실여부','GAAP']\n",
        "\n",
        "for col in object_cols:\n",
        "    eda_data[col] = eda_data[col].astype('object')"
      ]
    },
    {
      "cell_type": "code",
      "execution_count": null,
      "id": "17b4a3b4",
      "metadata": {
        "id": "17b4a3b4",
        "outputId": "3fdcec9e-33c5-43c5-abb4-4dbcb80d0a1a"
      },
      "outputs": [
        {
          "name": "stderr",
          "output_type": "stream",
          "text": [
            "C:\\Users\\fursew\\AppData\\Local\\Temp\\ipykernel_20104\\1509938036.py:6: SettingWithCopyWarning: \n",
            "A value is trying to be set on a copy of a slice from a DataFrame.\n",
            "Try using .loc[row_indexer,col_indexer] = value instead\n",
            "\n",
            "See the caveats in the documentation: https://pandas.pydata.org/pandas-docs/stable/user_guide/indexing.html#returning-a-view-versus-a-copy\n",
            "  eda_data['회계년도연속여부'] = eda_data.groupby(['회사명', '거래소코드'])['회계년도'].transform(\n",
            "C:\\Users\\fursew\\AppData\\Local\\Temp\\ipykernel_20104\\1509938036.py:9: SettingWithCopyWarning: \n",
            "A value is trying to be set on a copy of a slice from a DataFrame.\n",
            "Try using .loc[row_indexer,col_indexer] = value instead\n",
            "\n",
            "See the caveats in the documentation: https://pandas.pydata.org/pandas-docs/stable/user_guide/indexing.html#returning-a-view-versus-a-copy\n",
            "  eda_data['회계년도연속여부'] = eda_data['회계년도연속여부'].astype('object')\n"
          ]
        }
      ],
      "source": [
        "# 회계년도의 연속여부 컬럼 추가\n",
        "import pandas as pd\n",
        "def year_check(x: pd.Series) -> int:\n",
        "    return int(len(x) != (x.max() - x.min() + 1))\n",
        "\n",
        "eda_data['회계년도연속여부'] = eda_data.groupby(['회사명', '거래소코드'])['회계년도'].transform(\n",
        "    lambda x: year_check(x)\n",
        ")\n",
        "eda_data['회계년도연속여부'] = eda_data['회계년도연속여부'].astype('object')"
      ]
    },
    {
      "cell_type": "code",
      "execution_count": null,
      "id": "e400acb9",
      "metadata": {
        "id": "e400acb9",
        "outputId": "e201dfcf-9784-433b-d8e0-74869ab1275d"
      },
      "outputs": [
        {
          "name": "stderr",
          "output_type": "stream",
          "text": [
            "C:\\Users\\fursew\\AppData\\Local\\Temp\\ipykernel_20104\\3690913638.py:2: FutureWarning: Downcasting behavior in `replace` is deprecated and will be removed in a future version. To retain the old behavior, explicitly call `result.infer_objects(copy=False)`. To opt-in to the future behavior, set `pd.set_option('future.no_silent_downcasting', True)`\n",
            "  eda_data.replace([np.inf, -np.inf], np.nan, inplace=True)\n",
            "C:\\Users\\fursew\\AppData\\Local\\Temp\\ipykernel_20104\\3690913638.py:2: SettingWithCopyWarning: \n",
            "A value is trying to be set on a copy of a slice from a DataFrame\n",
            "\n",
            "See the caveats in the documentation: https://pandas.pydata.org/pandas-docs/stable/user_guide/indexing.html#returning-a-view-versus-a-copy\n",
            "  eda_data.replace([np.inf, -np.inf], np.nan, inplace=True)\n"
          ]
        }
      ],
      "source": [
        "# 무한대 값 변환\n",
        "eda_data.replace([np.inf, -np.inf], np.nan, inplace=True)"
      ]
    },
    {
      "cell_type": "code",
      "execution_count": null,
      "id": "a3e57ffb",
      "metadata": {
        "id": "a3e57ffb",
        "outputId": "2cc41331-8515-478c-c2c4-de80da7ceb6f"
      },
      "outputs": [
        {
          "name": "stderr",
          "output_type": "stream",
          "text": [
            "C:\\Users\\fursew\\AppData\\Local\\Temp\\ipykernel_20104\\1827388257.py:1: SettingWithCopyWarning: \n",
            "A value is trying to be set on a copy of a slice from a DataFrame\n",
            "\n",
            "See the caveats in the documentation: https://pandas.pydata.org/pandas-docs/stable/user_guide/indexing.html#returning-a-view-versus-a-copy\n",
            "  eda_data.drop(columns=[ '이자보상배율(이자비용)',\n"
          ]
        }
      ],
      "source": [
        "# 이자보상배율 컬럼 제거\n",
        "eda_data.drop(columns=[ '이자보상배율(이자비용)',\n",
        " '이자보상배율(순금융비용)',\n",
        "'이자보상배율(영업이익)'\n",
        "],inplace=True)"
      ]
    },
    {
      "cell_type": "code",
      "execution_count": null,
      "id": "b9e35653",
      "metadata": {
        "id": "b9e35653"
      },
      "outputs": [],
      "source": [
        "eda_data.to_csv('data/eda/EDA데이터_거시포함.csv',index=False)"
      ]
    },
    {
      "cell_type": "markdown",
      "id": "9906a59f",
      "metadata": {
        "id": "9906a59f"
      },
      "source": [
        "### Dickinson 국면 분할"
      ]
    },
    {
      "cell_type": "code",
      "execution_count": null,
      "id": "96fd44f0",
      "metadata": {
        "id": "96fd44f0",
        "outputId": "1c7a4736-1c7c-478b-fb51-d18c3ad6a3f6"
      },
      "outputs": [
        {
          "name": "stderr",
          "output_type": "stream",
          "text": [
            "C:\\Users\\fursew\\AppData\\Local\\Temp\\ipykernel_20104\\1459615397.py:24: SettingWithCopyWarning: \n",
            "A value is trying to be set on a copy of a slice from a DataFrame.\n",
            "Try using .loc[row_indexer,col_indexer] = value instead\n",
            "\n",
            "See the caveats in the documentation: https://pandas.pydata.org/pandas-docs/stable/user_guide/indexing.html#returning-a-view-versus-a-copy\n",
            "  eda_data['생애주기'] = eda_data.apply(classify_dickinson, axis=1)\n"
          ]
        },
        {
          "name": "stdout",
          "output_type": "stream",
          "text": [
            "생애주기\n",
            "도입기    42314\n",
            "성장기    53975\n",
            "성숙기    68220\n",
            "쇠퇴기    23977\n",
            "기타     41454\n",
            "Name: count, dtype: int64\n",
            "\n",
            "총 기업 수: 229940\n"
          ]
        }
      ],
      "source": [
        "### 국면으로 나누기\n",
        "op_col = '영업현금흐름(천원)'\n",
        "inv_col = '투자활동으로 인한 현금흐름(*)(천원)'\n",
        "fin_col = '재무활동으로 인한 현금흐름(*)(천원)'\n",
        "\n",
        "# 국면 분류 함수 정의\n",
        "def classify_dickinson(row):\n",
        "    op = row[op_col]\n",
        "    inv = row[inv_col]\n",
        "    fin = row[fin_col]\n",
        "\n",
        "    if op < 0 and inv < 0 and fin > 0:\n",
        "        return '도입기'\n",
        "    elif op > 0 and inv < 0 and fin > 0:\n",
        "        return '성장기'\n",
        "    elif op > 0 and inv < 0 and fin < 0:\n",
        "        return '성숙기'\n",
        "    elif op < 0 and inv > 0:\n",
        "        return '쇠퇴기'\n",
        "    else:\n",
        "        return '기타'\n",
        "\n",
        "# 데이터프레임에 생애주기 컬럼 추가\n",
        "eda_data['생애주기'] = eda_data.apply(classify_dickinson, axis=1)\n",
        "\n",
        "# 원하는 순서 정의\n",
        "stage_order = ['도입기', '성장기', '성숙기', '쇠퇴기', '기타']\n",
        "\n",
        "# value_counts 후 원하는 순서로 정렬\n",
        "counts = eda_data['생애주기'].value_counts().loc[stage_order]\n",
        "\n",
        "# 출력\n",
        "print(counts)\n",
        "print(\"\\n총 기업 수:\", counts.sum())\n",
        "\n",
        "filtered_lifecycle = eda_data[eda_data['생애주기'] != '기타'].copy()\n",
        "\n",
        "df_도입 = filtered_lifecycle[filtered_lifecycle['생애주기']=='도입기'].drop('생애주기',axis=1)\n",
        "df_성장 = filtered_lifecycle[filtered_lifecycle['생애주기']=='성장기'].drop('생애주기',axis=1)\n",
        "df_성숙 = filtered_lifecycle[filtered_lifecycle['생애주기']=='성숙기'].drop('생애주기',axis=1)\n",
        "df_쇠퇴 = filtered_lifecycle[filtered_lifecycle['생애주기']=='쇠퇴기'].drop('생애주기',axis=1)"
      ]
    },
    {
      "cell_type": "code",
      "execution_count": null,
      "id": "1372f659",
      "metadata": {
        "id": "1372f659"
      },
      "outputs": [],
      "source": [
        "df_도입.to_csv('data/eda/eda도입.csv',index=False)\n",
        "df_성장.to_csv('data/eda/eda성장.csv',index=False)\n",
        "df_성숙.to_csv('data/eda/eda성숙.csv',index=False)\n",
        "df_쇠퇴.to_csv('data/eda/eda쇠퇴.csv',index=False)"
      ]
    }
  ],
  "metadata": {
    "kernelspec": {
      "display_name": "Python 3",
      "language": "python",
      "name": "python3"
    },
    "language_info": {
      "codemirror_mode": {
        "name": "ipython",
        "version": 3
      },
      "file_extension": ".py",
      "mimetype": "text/x-python",
      "name": "python",
      "nbconvert_exporter": "python",
      "pygments_lexer": "ipython3",
      "version": "3.11.0"
    },
    "colab": {
      "provenance": [],
      "include_colab_link": true
    }
  },
  "nbformat": 4,
  "nbformat_minor": 5
}