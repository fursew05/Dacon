{
 "cells": [
  {
   "cell_type": "code",
   "execution_count": 26,
   "metadata": {},
   "outputs": [],
   "source": [
    "import pandas as pd\n",
    "import numpy as np\n",
    "from sklearn.preprocessing import StandardScaler\n",
    "from sklearn.linear_model import LogisticRegression\n",
    "import matplotlib.pyplot as plt\n",
    "import seaborn as sns\n",
    "import xgboost\n",
    "plt.rcParams['font.family']='NanumGothic'"
   ]
  },
  {
   "cell_type": "code",
   "execution_count": 14,
   "metadata": {},
   "outputs": [
    {
     "name": "stdout",
     "output_type": "stream",
     "text": [
      "Index(['주거 형태', '연간 소득', '개설된 신용계좌 수', '대출 목적', '대출 상환 기간', '최대 신용한도',\n",
      "       '월 상환 부채액', '신용 점수', '채무 불이행 여부'],\n",
      "      dtype='object')\n"
     ]
    }
   ],
   "source": [
    "#스케일링을 하고 진행하기(이상치가 존재하기 때문에 standardscaler를 사용)\n",
    "#train 데이터\n",
    "train = pd.read_csv('train_encoding.csv')\n",
    "print(train.columns)\n",
    "numerical_cols = ['연간 소득', '최대 신용한도','월 상환 부채액','신용 점수']\n",
    "categorical_cols = ['주거 형태','개설된 신용계좌 수','대출 목적','대출 상환 기간','채무 불이행 여부']\n",
    "numerical_df = train[numerical_cols]\n",
    "categorical_df = train[categorical_cols]"
   ]
  },
  {
   "cell_type": "code",
   "execution_count": 6,
   "metadata": {},
   "outputs": [
    {
     "data": {
      "text/plain": [
       "Index(['UID', '주거 형태', '연간 소득', '현재 직장 근속 연수', '체납 세금 압류 횟수', '개설된 신용계좌 수',\n",
       "       '신용 거래 연수', '최대 신용한도', '신용 문제 발생 횟수', '마지막 연체 이후 경과 개월 수', '개인 파산 횟수',\n",
       "       '대출 목적', '대출 상환 기간', '현재 대출 잔액', '현재 미상환 신용액', '월 상환 부채액', '신용 점수',\n",
       "       '채무 불이행 여부'],\n",
       "      dtype='object')"
      ]
     },
     "execution_count": 6,
     "metadata": {},
     "output_type": "execute_result"
    }
   ],
   "source": [
    "data = pd.read_csv('train.csv')\n",
    "data.columns"
   ]
  },
  {
   "cell_type": "code",
   "execution_count": null,
   "metadata": {},
   "outputs": [],
   "source": [
    "numeric_col = ['연간 소득','최대 신용한도','현재 대출 잔액', '현재 미상환 신용액', \n",
    "                '월 상환 부채액', '신용 점수']\n",
    "df = data[numeric_col]"
   ]
  },
  {
   "cell_type": "code",
   "execution_count": null,
   "metadata": {},
   "outputs": [
    {
     "data": {
      "text/html": [
       "<div>\n",
       "<style scoped>\n",
       "    .dataframe tbody tr th:only-of-type {\n",
       "        vertical-align: middle;\n",
       "    }\n",
       "\n",
       "    .dataframe tbody tr th {\n",
       "        vertical-align: top;\n",
       "    }\n",
       "\n",
       "    .dataframe thead th {\n",
       "        text-align: right;\n",
       "    }\n",
       "</style>\n",
       "<table border=\"1\" class=\"dataframe\">\n",
       "  <thead>\n",
       "    <tr style=\"text-align: right;\">\n",
       "      <th></th>\n",
       "      <th>VIF</th>\n",
       "      <th>feature</th>\n",
       "    </tr>\n",
       "  </thead>\n",
       "  <tbody>\n",
       "    <tr>\n",
       "      <th>0</th>\n",
       "      <td>4.602581</td>\n",
       "      <td>연간 소득</td>\n",
       "    </tr>\n",
       "    <tr>\n",
       "      <th>1</th>\n",
       "      <td>2.104665</td>\n",
       "      <td>최대 신용한도</td>\n",
       "    </tr>\n",
       "    <tr>\n",
       "      <th>2</th>\n",
       "      <td>5.390104</td>\n",
       "      <td>현재 대출 잔액</td>\n",
       "    </tr>\n",
       "    <tr>\n",
       "      <th>3</th>\n",
       "      <td>2.720107</td>\n",
       "      <td>현재 미상환 신용액</td>\n",
       "    </tr>\n",
       "    <tr>\n",
       "      <th>4</th>\n",
       "      <td>4.483855</td>\n",
       "      <td>월 상환 부채액</td>\n",
       "    </tr>\n",
       "    <tr>\n",
       "      <th>5</th>\n",
       "      <td>5.217970</td>\n",
       "      <td>신용 점수</td>\n",
       "    </tr>\n",
       "  </tbody>\n",
       "</table>\n",
       "</div>"
      ],
      "text/plain": [
       "        VIF     feature\n",
       "0  4.602581       연간 소득\n",
       "1  2.104665     최대 신용한도\n",
       "2  5.390104    현재 대출 잔액\n",
       "3  2.720107  현재 미상환 신용액\n",
       "4  4.483855    월 상환 부채액\n",
       "5  5.217970       신용 점수"
      ]
     },
     "execution_count": 12,
     "metadata": {},
     "output_type": "execute_result"
    }
   ],
   "source": [
    "# numerical 컬럼들에 대한 분산팽창인자 값을 확인하여 다중 공선성이 있는지 확인해보기\n",
    "# 5보다 큰 값인 현재 대출 잔액 및 신용 점수는 피처에서 제외하기\n",
    "vif = pd.DataFrame()\n",
    "vif['VIF'] = [variance_inflation_factor(df.values,i) for i in range(df.shape[1])]\n",
    "vif['feature'] = df.columns\n",
    "vif"
   ]
  },
  {
   "cell_type": "code",
   "execution_count": 11,
   "metadata": {},
   "outputs": [
    {
     "data": {
      "text/plain": [
       "<Axes: >"
      ]
     },
     "execution_count": 11,
     "metadata": {},
     "output_type": "execute_result"
    },
    {
     "data": {
      "image/png": "[encoded data removed]",
      "text/plain": [
       "<Figure size 640x480 with 2 Axes>"
      ]
     },
     "metadata": {},
     "output_type": "display_data"
    }
   ],
   "source": [
    "#다중공선성 확인\n",
    "sns.heatmap(numerical_df.corr(),annot=True)"
   ]
  },
  {
   "cell_type": "code",
   "execution_count": 15,
   "metadata": {},
   "outputs": [
    {
     "data": {
      "text/html": [
       "<div>\n",
       "<style scoped>\n",
       "    .dataframe tbody tr th:only-of-type {\n",
       "        vertical-align: middle;\n",
       "    }\n",
       "\n",
       "    .dataframe tbody tr th {\n",
       "        vertical-align: top;\n",
       "    }\n",
       "\n",
       "    .dataframe thead th {\n",
       "        text-align: right;\n",
       "    }\n",
       "</style>\n",
       "<table border=\"1\" class=\"dataframe\">\n",
       "  <thead>\n",
       "    <tr style=\"text-align: right;\">\n",
       "      <th></th>\n",
       "      <th>연간 소득</th>\n",
       "      <th>최대 신용한도</th>\n",
       "      <th>월 상환 부채액</th>\n",
       "      <th>신용 점수</th>\n",
       "    </tr>\n",
       "  </thead>\n",
       "  <tbody>\n",
       "    <tr>\n",
       "      <th>0</th>\n",
       "      <td>1941337.5</td>\n",
       "      <td>400597.5</td>\n",
       "      <td>8806.5</td>\n",
       "      <td>767</td>\n",
       "    </tr>\n",
       "    <tr>\n",
       "      <th>1</th>\n",
       "      <td>1979505.0</td>\n",
       "      <td>360679.5</td>\n",
       "      <td>24961.5</td>\n",
       "      <td>767</td>\n",
       "    </tr>\n",
       "    <tr>\n",
       "      <th>2</th>\n",
       "      <td>1356381.0</td>\n",
       "      <td>491770.5</td>\n",
       "      <td>12069.0</td>\n",
       "      <td>800</td>\n",
       "    </tr>\n",
       "    <tr>\n",
       "      <th>3</th>\n",
       "      <td>1049017.5</td>\n",
       "      <td>411546.0</td>\n",
       "      <td>31749.0</td>\n",
       "      <td>796</td>\n",
       "    </tr>\n",
       "    <tr>\n",
       "      <th>4</th>\n",
       "      <td>4320217.5</td>\n",
       "      <td>895288.5</td>\n",
       "      <td>5862.0</td>\n",
       "      <td>751</td>\n",
       "    </tr>\n",
       "    <tr>\n",
       "      <th>...</th>\n",
       "      <td>...</td>\n",
       "      <td>...</td>\n",
       "      <td>...</td>\n",
       "      <td>...</td>\n",
       "    </tr>\n",
       "    <tr>\n",
       "      <th>9995</th>\n",
       "      <td>1339473.0</td>\n",
       "      <td>319027.5</td>\n",
       "      <td>6237.0</td>\n",
       "      <td>755</td>\n",
       "    </tr>\n",
       "    <tr>\n",
       "      <th>9996</th>\n",
       "      <td>2297230.5</td>\n",
       "      <td>399799.5</td>\n",
       "      <td>53301.0</td>\n",
       "      <td>707</td>\n",
       "    </tr>\n",
       "    <tr>\n",
       "      <th>9997</th>\n",
       "      <td>1221523.5</td>\n",
       "      <td>823305.0</td>\n",
       "      <td>11436.0</td>\n",
       "      <td>733</td>\n",
       "    </tr>\n",
       "    <tr>\n",
       "      <th>9998</th>\n",
       "      <td>3343584.0</td>\n",
       "      <td>724314.0</td>\n",
       "      <td>25567.5</td>\n",
       "      <td>696</td>\n",
       "    </tr>\n",
       "    <tr>\n",
       "      <th>9999</th>\n",
       "      <td>2175133.5</td>\n",
       "      <td>52999.5</td>\n",
       "      <td>12676.5</td>\n",
       "      <td>676</td>\n",
       "    </tr>\n",
       "  </tbody>\n",
       "</table>\n",
       "<p>10000 rows × 4 columns</p>\n",
       "</div>"
      ],
      "text/plain": [
       "          연간 소득   최대 신용한도  월 상환 부채액  신용 점수\n",
       "0     1941337.5  400597.5    8806.5    767\n",
       "1     1979505.0  360679.5   24961.5    767\n",
       "2     1356381.0  491770.5   12069.0    800\n",
       "3     1049017.5  411546.0   31749.0    796\n",
       "4     4320217.5  895288.5    5862.0    751\n",
       "...         ...       ...       ...    ...\n",
       "9995  1339473.0  319027.5    6237.0    755\n",
       "9996  2297230.5  399799.5   53301.0    707\n",
       "9997  1221523.5  823305.0   11436.0    733\n",
       "9998  3343584.0  724314.0   25567.5    696\n",
       "9999  2175133.5   52999.5   12676.5    676\n",
       "\n",
       "[10000 rows x 4 columns]"
      ]
     },
     "execution_count": 15,
     "metadata": {},
     "output_type": "execute_result"
    }
   ],
   "source": [
    "numerical_df"
   ]
  },
  {
   "cell_type": "code",
   "execution_count": 16,
   "metadata": {},
   "outputs": [
    {
     "data": {
      "text/html": [
       "<div>\n",
       "<style scoped>\n",
       "    .dataframe tbody tr th:only-of-type {\n",
       "        vertical-align: middle;\n",
       "    }\n",
       "\n",
       "    .dataframe tbody tr th {\n",
       "        vertical-align: top;\n",
       "    }\n",
       "\n",
       "    .dataframe thead th {\n",
       "        text-align: right;\n",
       "    }\n",
       "</style>\n",
       "<table border=\"1\" class=\"dataframe\">\n",
       "  <thead>\n",
       "    <tr style=\"text-align: right;\">\n",
       "      <th></th>\n",
       "      <th>주거 형태</th>\n",
       "      <th>개설된 신용계좌 수</th>\n",
       "      <th>대출 목적</th>\n",
       "      <th>대출 상환 기간</th>\n",
       "      <th>채무 불이행 여부</th>\n",
       "    </tr>\n",
       "  </thead>\n",
       "  <tbody>\n",
       "    <tr>\n",
       "      <th>0</th>\n",
       "      <td>1</td>\n",
       "      <td>0</td>\n",
       "      <td>1</td>\n",
       "      <td>0</td>\n",
       "      <td>0</td>\n",
       "    </tr>\n",
       "    <tr>\n",
       "      <th>1</th>\n",
       "      <td>1</td>\n",
       "      <td>0</td>\n",
       "      <td>1</td>\n",
       "      <td>0</td>\n",
       "      <td>0</td>\n",
       "    </tr>\n",
       "    <tr>\n",
       "      <th>2</th>\n",
       "      <td>1</td>\n",
       "      <td>0</td>\n",
       "      <td>1</td>\n",
       "      <td>0</td>\n",
       "      <td>1</td>\n",
       "    </tr>\n",
       "    <tr>\n",
       "      <th>3</th>\n",
       "      <td>1</td>\n",
       "      <td>0</td>\n",
       "      <td>1</td>\n",
       "      <td>0</td>\n",
       "      <td>1</td>\n",
       "    </tr>\n",
       "    <tr>\n",
       "      <th>4</th>\n",
       "      <td>1</td>\n",
       "      <td>0</td>\n",
       "      <td>1</td>\n",
       "      <td>1</td>\n",
       "      <td>0</td>\n",
       "    </tr>\n",
       "    <tr>\n",
       "      <th>...</th>\n",
       "      <td>...</td>\n",
       "      <td>...</td>\n",
       "      <td>...</td>\n",
       "      <td>...</td>\n",
       "      <td>...</td>\n",
       "    </tr>\n",
       "    <tr>\n",
       "      <th>9995</th>\n",
       "      <td>0</td>\n",
       "      <td>0</td>\n",
       "      <td>1</td>\n",
       "      <td>0</td>\n",
       "      <td>0</td>\n",
       "    </tr>\n",
       "    <tr>\n",
       "      <th>9996</th>\n",
       "      <td>0</td>\n",
       "      <td>0</td>\n",
       "      <td>0</td>\n",
       "      <td>1</td>\n",
       "      <td>0</td>\n",
       "    </tr>\n",
       "    <tr>\n",
       "      <th>9997</th>\n",
       "      <td>0</td>\n",
       "      <td>0</td>\n",
       "      <td>1</td>\n",
       "      <td>1</td>\n",
       "      <td>0</td>\n",
       "    </tr>\n",
       "    <tr>\n",
       "      <th>9998</th>\n",
       "      <td>1</td>\n",
       "      <td>0</td>\n",
       "      <td>1</td>\n",
       "      <td>0</td>\n",
       "      <td>0</td>\n",
       "    </tr>\n",
       "    <tr>\n",
       "      <th>9999</th>\n",
       "      <td>0</td>\n",
       "      <td>0</td>\n",
       "      <td>0</td>\n",
       "      <td>1</td>\n",
       "      <td>0</td>\n",
       "    </tr>\n",
       "  </tbody>\n",
       "</table>\n",
       "<p>10000 rows × 5 columns</p>\n",
       "</div>"
      ],
      "text/plain": [
       "      주거 형태  개설된 신용계좌 수  대출 목적  대출 상환 기간  채무 불이행 여부\n",
       "0         1           0      1         0          0\n",
       "1         1           0      1         0          0\n",
       "2         1           0      1         0          1\n",
       "3         1           0      1         0          1\n",
       "4         1           0      1         1          0\n",
       "...     ...         ...    ...       ...        ...\n",
       "9995      0           0      1         0          0\n",
       "9996      0           0      0         1          0\n",
       "9997      0           0      1         1          0\n",
       "9998      1           0      1         0          0\n",
       "9999      0           0      0         1          0\n",
       "\n",
       "[10000 rows x 5 columns]"
      ]
     },
     "execution_count": 16,
     "metadata": {},
     "output_type": "execute_result"
    }
   ],
   "source": [
    "categorical_df"
   ]
  },
  {
   "cell_type": "code",
   "execution_count": 50,
   "metadata": {},
   "outputs": [
    {
     "data": {
      "text/plain": [
       "Index(['주거 형태', '연간 소득', '개설된 신용계좌 수', '대출 목적', '대출 상환 기간', '최대 신용한도',\n",
       "       '현재 미상환 신용액', '신용 점수', '채무 불이행 여부'],\n",
       "      dtype='object')"
      ]
     },
     "execution_count": 50,
     "metadata": {},
     "output_type": "execute_result"
    }
   ],
   "source": [
    "train.columns"
   ]
  },
  {
   "cell_type": "code",
   "execution_count": 17,
   "metadata": {},
   "outputs": [
    {
     "data": {
      "text/html": [
       "<div>\n",
       "<style scoped>\n",
       "    .dataframe tbody tr th:only-of-type {\n",
       "        vertical-align: middle;\n",
       "    }\n",
       "\n",
       "    .dataframe tbody tr th {\n",
       "        vertical-align: top;\n",
       "    }\n",
       "\n",
       "    .dataframe thead th {\n",
       "        text-align: right;\n",
       "    }\n",
       "</style>\n",
       "<table border=\"1\" class=\"dataframe\">\n",
       "  <thead>\n",
       "    <tr style=\"text-align: right;\">\n",
       "      <th></th>\n",
       "      <th>연간 소득</th>\n",
       "      <th>최대 신용한도</th>\n",
       "      <th>월 상환 부채액</th>\n",
       "      <th>신용 점수</th>\n",
       "      <th>주거 형태</th>\n",
       "      <th>개설된 신용계좌 수</th>\n",
       "      <th>대출 목적</th>\n",
       "      <th>대출 상환 기간</th>\n",
       "      <th>채무 불이행 여부</th>\n",
       "    </tr>\n",
       "  </thead>\n",
       "  <tbody>\n",
       "    <tr>\n",
       "      <th>0</th>\n",
       "      <td>-0.155206</td>\n",
       "      <td>-0.482924</td>\n",
       "      <td>-0.892995</td>\n",
       "      <td>0.399787</td>\n",
       "      <td>1</td>\n",
       "      <td>0</td>\n",
       "      <td>1</td>\n",
       "      <td>0</td>\n",
       "      <td>0</td>\n",
       "    </tr>\n",
       "    <tr>\n",
       "      <th>1</th>\n",
       "      <td>-0.128597</td>\n",
       "      <td>-0.507808</td>\n",
       "      <td>0.170833</td>\n",
       "      <td>0.399787</td>\n",
       "      <td>1</td>\n",
       "      <td>0</td>\n",
       "      <td>1</td>\n",
       "      <td>0</td>\n",
       "      <td>0</td>\n",
       "    </tr>\n",
       "    <tr>\n",
       "      <th>2</th>\n",
       "      <td>-0.563024</td>\n",
       "      <td>-0.426087</td>\n",
       "      <td>-0.678155</td>\n",
       "      <td>0.978807</td>\n",
       "      <td>1</td>\n",
       "      <td>0</td>\n",
       "      <td>1</td>\n",
       "      <td>0</td>\n",
       "      <td>1</td>\n",
       "    </tr>\n",
       "    <tr>\n",
       "      <th>3</th>\n",
       "      <td>-0.777310</td>\n",
       "      <td>-0.476099</td>\n",
       "      <td>0.617798</td>\n",
       "      <td>0.908623</td>\n",
       "      <td>1</td>\n",
       "      <td>0</td>\n",
       "      <td>1</td>\n",
       "      <td>0</td>\n",
       "      <td>1</td>\n",
       "    </tr>\n",
       "    <tr>\n",
       "      <th>4</th>\n",
       "      <td>1.503292</td>\n",
       "      <td>-0.174536</td>\n",
       "      <td>-1.086894</td>\n",
       "      <td>0.119050</td>\n",
       "      <td>1</td>\n",
       "      <td>0</td>\n",
       "      <td>1</td>\n",
       "      <td>1</td>\n",
       "      <td>0</td>\n",
       "    </tr>\n",
       "  </tbody>\n",
       "</table>\n",
       "</div>"
      ],
      "text/plain": [
       "      연간 소득   최대 신용한도  월 상환 부채액     신용 점수  주거 형태  개설된 신용계좌 수  대출 목적  대출 상환 기간  \\\n",
       "0 -0.155206 -0.482924 -0.892995  0.399787      1           0      1         0   \n",
       "1 -0.128597 -0.507808  0.170833  0.399787      1           0      1         0   \n",
       "2 -0.563024 -0.426087 -0.678155  0.978807      1           0      1         0   \n",
       "3 -0.777310 -0.476099  0.617798  0.908623      1           0      1         0   \n",
       "4  1.503292 -0.174536 -1.086894  0.119050      1           0      1         1   \n",
       "\n",
       "   채무 불이행 여부  \n",
       "0          0  \n",
       "1          0  \n",
       "2          1  \n",
       "3          1  \n",
       "4          0  "
      ]
     },
     "execution_count": 17,
     "metadata": {},
     "output_type": "execute_result"
    }
   ],
   "source": [
    "scaler = StandardScaler()\n",
    "scaled_train = scaler.fit_transform(numerical_df)\n",
    "scaled_numeric = pd.DataFrame(scaled_train,columns = numerical_cols)\n",
    "scaled_train = pd.concat([scaled_numeric,categorical_df],axis=1,ignore_index=True)\n",
    "scaled_train.columns = ['연간 소득', '최대 신용한도',\n",
    "       '월 상환 부채액', '신용 점수','주거 형태',\n",
    "       '개설된 신용계좌 수', '대출 목적', \n",
    "       '대출 상환 기간','채무 불이행 여부']\n",
    "scaled_train.head()"
   ]
  },
  {
   "cell_type": "code",
   "execution_count": 19,
   "metadata": {},
   "outputs": [
    {
     "data": {
      "text/plain": [
       "['연간 소득', '최대 신용한도', '월 상환 부채액', '신용 점수']"
      ]
     },
     "execution_count": 19,
     "metadata": {},
     "output_type": "execute_result"
    }
   ],
   "source": [
    "numerical_cols"
   ]
  },
  {
   "cell_type": "code",
   "execution_count": 22,
   "metadata": {},
   "outputs": [
    {
     "name": "stdout",
     "output_type": "stream",
     "text": [
      "Index(['주거 형태', '연간 소득', '개설된 신용계좌 수', '대출 목적', '대출 상환 기간', '최대 신용한도',\n",
      "       '월 상환 부채액', '신용 점수'],\n",
      "      dtype='object')\n"
     ]
    },
    {
     "data": {
      "text/html": [
       "<div>\n",
       "<style scoped>\n",
       "    .dataframe tbody tr th:only-of-type {\n",
       "        vertical-align: middle;\n",
       "    }\n",
       "\n",
       "    .dataframe tbody tr th {\n",
       "        vertical-align: top;\n",
       "    }\n",
       "\n",
       "    .dataframe thead th {\n",
       "        text-align: right;\n",
       "    }\n",
       "</style>\n",
       "<table border=\"1\" class=\"dataframe\">\n",
       "  <thead>\n",
       "    <tr style=\"text-align: right;\">\n",
       "      <th></th>\n",
       "      <th>연간 소득</th>\n",
       "      <th>최대 신용한도</th>\n",
       "      <th>월 상환 부채액</th>\n",
       "      <th>신용 점수</th>\n",
       "      <th>주거 형태</th>\n",
       "      <th>개설된 신용계좌 수</th>\n",
       "      <th>대출 목적</th>\n",
       "      <th>대출 상환 기간</th>\n",
       "    </tr>\n",
       "  </thead>\n",
       "  <tbody>\n",
       "    <tr>\n",
       "      <th>0</th>\n",
       "      <td>-0.473105</td>\n",
       "      <td>-0.050880</td>\n",
       "      <td>0.088907</td>\n",
       "      <td>-0.396419</td>\n",
       "      <td>1</td>\n",
       "      <td>0</td>\n",
       "      <td>0</td>\n",
       "      <td>0</td>\n",
       "    </tr>\n",
       "    <tr>\n",
       "      <th>1</th>\n",
       "      <td>-0.054064</td>\n",
       "      <td>-0.044096</td>\n",
       "      <td>-0.471728</td>\n",
       "      <td>-0.745369</td>\n",
       "      <td>0</td>\n",
       "      <td>0</td>\n",
       "      <td>1</td>\n",
       "      <td>1</td>\n",
       "    </tr>\n",
       "    <tr>\n",
       "      <th>2</th>\n",
       "      <td>0.235870</td>\n",
       "      <td>-0.011080</td>\n",
       "      <td>-0.887485</td>\n",
       "      <td>-0.667824</td>\n",
       "      <td>0</td>\n",
       "      <td>0</td>\n",
       "      <td>1</td>\n",
       "      <td>1</td>\n",
       "    </tr>\n",
       "    <tr>\n",
       "      <th>3</th>\n",
       "      <td>-0.464608</td>\n",
       "      <td>-0.042439</td>\n",
       "      <td>-0.972196</td>\n",
       "      <td>0.107620</td>\n",
       "      <td>0</td>\n",
       "      <td>0</td>\n",
       "      <td>1</td>\n",
       "      <td>0</td>\n",
       "    </tr>\n",
       "    <tr>\n",
       "      <th>4</th>\n",
       "      <td>0.090870</td>\n",
       "      <td>0.065195</td>\n",
       "      <td>0.840850</td>\n",
       "      <td>0.359640</td>\n",
       "      <td>0</td>\n",
       "      <td>1</td>\n",
       "      <td>1</td>\n",
       "      <td>0</td>\n",
       "    </tr>\n",
       "  </tbody>\n",
       "</table>\n",
       "</div>"
      ],
      "text/plain": [
       "      연간 소득   최대 신용한도  월 상환 부채액     신용 점수  주거 형태  개설된 신용계좌 수  대출 목적  대출 상환 기간\n",
       "0 -0.473105 -0.050880  0.088907 -0.396419      1           0      0         0\n",
       "1 -0.054064 -0.044096 -0.471728 -0.745369      0           0      1         1\n",
       "2  0.235870 -0.011080 -0.887485 -0.667824      0           0      1         1\n",
       "3 -0.464608 -0.042439 -0.972196  0.107620      0           0      1         0\n",
       "4  0.090870  0.065195  0.840850  0.359640      0           1      1         0"
      ]
     },
     "execution_count": 22,
     "metadata": {},
     "output_type": "execute_result"
    }
   ],
   "source": [
    "#test 데이터\n",
    "test = pd.read_csv('test_encoding.csv')\n",
    "print(test.columns)\n",
    "test_numeric = test[numerical_cols]\n",
    "test_categorical = test[categorical_cols[:-1]]\n",
    "scaler_test = StandardScaler()\n",
    "test_numeric_scaled = pd.DataFrame(scaler_test.fit_transform(test_numeric),columns=test_numeric.columns)\n",
    "scaled_test = pd.concat([test_numeric_scaled,test_categorical],axis=1,ignore_index=True)\n",
    "scaled_test.columns = ['연간 소득', '최대 신용한도',\n",
    "       '월 상환 부채액', '신용 점수','주거 형태',\n",
    "       '개설된 신용계좌 수', '대출 목적', \n",
    "       '대출 상환 기간']\n",
    "scaled_test.head()"
   ]
  },
  {
   "cell_type": "code",
   "execution_count": 23,
   "metadata": {},
   "outputs": [
    {
     "data": {
      "text/plain": [
       "array([[0.89952326, 0.10047674],\n",
       "       [0.89251715, 0.10748285],\n",
       "       [0.575493  , 0.424507  ],\n",
       "       ...,\n",
       "       [0.53046757, 0.46953243],\n",
       "       [0.76841545, 0.23158456],\n",
       "       [0.5457804 , 0.45421958]], shape=(2062, 2), dtype=float32)"
      ]
     },
     "execution_count": 23,
     "metadata": {},
     "output_type": "execute_result"
    }
   ],
   "source": [
    "# 스케일링 진행 후 규제 회귀를 적용한 모델 제출하기, lasso L1 규제 적용, 릿지는 기본값\n",
    "train_x = train.iloc[:,:-1].values\n",
    "train_y = train.iloc[:,-1].values\n",
    "model = xgboost.XGBClassifier(n_estimators=500,random_state=42)\n",
    "model.fit(train_x,train_y)\n",
    "y_prob = model.predict_proba(test)\n",
    "y_prob"
   ]
  },
  {
   "cell_type": "code",
   "execution_count": 28,
   "metadata": {},
   "outputs": [
    {
     "name": "stderr",
     "output_type": "stream",
     "text": [
      "c:\\Users\\fursew\\AppData\\Local\\Programs\\Python\\Python313\\Lib\\site-packages\\sklearn\\utils\\validation.py:2732: UserWarning: X has feature names, but LogisticRegression was fitted without feature names\n",
      "  warnings.warn(\n"
     ]
    },
    {
     "data": {
      "text/plain": [
       "array([[0.67250535, 0.32749465],\n",
       "       [0.38463187, 0.61536813],\n",
       "       [0.41117022, 0.58882978],\n",
       "       ...,\n",
       "       [0.39026702, 0.60973298],\n",
       "       [0.54167262, 0.45832738],\n",
       "       [0.29863934, 0.70136066]], shape=(2062, 2))"
      ]
     },
     "execution_count": 28,
     "metadata": {},
     "output_type": "execute_result"
    }
   ],
   "source": [
    "# 스케일링 진행 후 규제 회귀를 적용한 모델 제출하기, lasso L1 규제 적용, 릿지는 기본값\n",
    "train_x = train.iloc[:,:-1].values\n",
    "train_y = train.iloc[:,-1].values\n",
    "model = LogisticRegression(class_weight ='balanced')\n",
    "model.fit(train_x,train_y)\n",
    "y_prob = model.predict_proba(test)\n",
    "y_prob"
   ]
  },
  {
   "cell_type": "code",
   "execution_count": 29,
   "metadata": {},
   "outputs": [],
   "source": [
    "submit = pd.read_csv('sample_submission.csv')\n",
    "\n",
    "# 결과 저장\n",
    "submit['채무 불이행 확률'] = y_prob[:,-1]\n",
    "submit.to_csv('submission.csv', encoding='UTF-8-sig', index=False)"
   ]
  },
  {
   "cell_type": "code",
   "execution_count": 63,
   "metadata": {},
   "outputs": [
    {
     "data": {
      "text/plain": [
       "array([[0.99999985, 0.99999978, 1.00000049, 1.00000081, 1.00000087,\n",
       "        0.99999998, 1.00000035, 0.99957486]])"
      ]
     },
     "execution_count": 63,
     "metadata": {},
     "output_type": "execute_result"
    }
   ],
   "source": [
    "np.exp(model.coef_)"
   ]
  }
 ],
 "metadata": {
  "kernelspec": {
   "display_name": "Python 3",
   "language": "python",
   "name": "python3"
  },
  "language_info": {
   "codemirror_mode": {
    "name": "ipython",
    "version": 3
   },
   "file_extension": ".py",
   "mimetype": "text/x-python",
   "name": "python",
   "nbconvert_exporter": "python",
   "pygments_lexer": "ipython3",
   "version": "3.13.2"
  }
 },
 "nbformat": 4,
 "nbformat_minor": 2
}
